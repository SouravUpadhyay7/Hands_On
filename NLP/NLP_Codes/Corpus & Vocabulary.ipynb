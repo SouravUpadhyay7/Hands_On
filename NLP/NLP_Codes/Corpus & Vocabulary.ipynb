{
 "cells": [
  {
   "cell_type": "code",
   "execution_count": 1,
   "id": "915eeb09-9e79-4a3d-a363-892d3c77c02f",
   "metadata": {},
   "outputs": [
    {
     "data": {
      "text/plain": [
       "'India, officially the Republic of India, is a country in South Asia. It is the seventh-largest country by area, the second-most populous country, and the most populous democracy in the world. Bounded by the Indian Ocean on the south, the Arabian Sea on the southwest, and the Bay of Bengal on the southeast, it shares land borders with Pakistan to the west; China, Nepal, and Bhutan to the north; and Bangladesh and Myanmar to the east. In the Indian Ocean, India is in the vicinity of Sri Lanka and the Maldives; its Andaman and Nicobar Islands share a maritime border with Thailand, Myanmar and Indonesia.'"
      ]
     },
     "execution_count": 1,
     "metadata": {},
     "output_type": "execute_result"
    }
   ],
   "source": [
    "from nltk.tokenize import word_tokenize, sent_tokenize\n",
    "from nltk.corpus import stopwords\n",
    "\n",
    "\n",
    "corpus = 'India, officially the Republic of India, is a country in South Asia. It is the seventh-largest country by area, the second-most populous country, and the most populous democracy in the world. Bounded by the Indian Ocean on the south, the Arabian Sea on the southwest, and the Bay of Bengal on the southeast, it shares land borders with Pakistan to the west; China, Nepal, and Bhutan to the north; and Bangladesh and Myanmar to the east. In the Indian Ocean, India is in the vicinity of Sri Lanka and the Maldives; its Andaman and Nicobar Islands share a maritime border with Thailand, Myanmar and Indonesia.'\n",
    "corpus"
   ]
  },
  {
   "cell_type": "code",
   "execution_count": 2,
   "id": "55c03585-cdda-4217-8866-01f3f570d5a6",
   "metadata": {},
   "outputs": [],
   "source": [
    "words = []\n",
    "\n",
    "for word in word_tokenize(corpus):\n",
    "    if (word.lower() not in stopwords.words('english')) and (len(word) >= 2):\n",
    "        words.append(word.lower())"
   ]
  },
  {
   "cell_type": "code",
   "execution_count": 3,
   "id": "5a11217d-59af-4000-9981-a0979581e623",
   "metadata": {},
   "outputs": [],
   "source": [
    "vocab = list(set(words))"
   ]
  },
  {
   "cell_type": "code",
   "execution_count": 4,
   "id": "73c02172-0392-4abe-8544-a7696157bfe0",
   "metadata": {},
   "outputs": [
    {
     "data": {
      "text/plain": [
       "['officially',\n",
       " 'vicinity',\n",
       " 'india',\n",
       " 'myanmar',\n",
       " 'nepal',\n",
       " 'china',\n",
       " 'west',\n",
       " 'indian',\n",
       " 'asia',\n",
       " 'country',\n",
       " 'second-most',\n",
       " 'southeast',\n",
       " 'east',\n",
       " 'bhutan',\n",
       " 'area',\n",
       " 'maldives',\n",
       " 'southwest',\n",
       " 'world',\n",
       " 'bengal',\n",
       " 'nicobar',\n",
       " 'borders',\n",
       " 'indonesia',\n",
       " 'bay',\n",
       " 'maritime',\n",
       " 'sri',\n",
       " 'shares',\n",
       " 'andaman',\n",
       " 'republic',\n",
       " 'populous',\n",
       " 'seventh-largest',\n",
       " 'bounded',\n",
       " 'arabian',\n",
       " 'islands',\n",
       " 'south',\n",
       " 'ocean',\n",
       " 'pakistan',\n",
       " 'lanka',\n",
       " 'land',\n",
       " 'bangladesh',\n",
       " 'border',\n",
       " 'democracy',\n",
       " 'sea',\n",
       " 'north',\n",
       " 'thailand',\n",
       " 'share']"
      ]
     },
     "execution_count": 4,
     "metadata": {},
     "output_type": "execute_result"
    }
   ],
   "source": [
    "vocab"
   ]
  },
  {
   "cell_type": "code",
   "execution_count": 5,
   "id": "6671c09a-b000-4152-a92a-5ef8f22b6462",
   "metadata": {},
   "outputs": [
    {
     "name": "stdout",
     "output_type": "stream",
     "text": [
      "India, officially the Republic of India, is a country in South Asia.\n",
      "It is the seventh-largest country by area, the second-most populous country, and the most populous democracy in the world.\n",
      "Bounded by the Indian Ocean on the south, the Arabian Sea on the southwest, and the Bay of Bengal on the southeast, it shares land borders with Pakistan to the west; China, Nepal, and Bhutan to the north; and Bangladesh and Myanmar to the east.\n",
      "In the Indian Ocean, India is in the vicinity of Sri Lanka and the Maldives; its Andaman and Nicobar Islands share a maritime border with Thailand, Myanmar and Indonesia.\n"
     ]
    }
   ],
   "source": [
    "for sent in sent_tokenize(corpus):\n",
    "    print(sent)"
   ]
  },
  {
   "cell_type": "code",
   "execution_count": null,
   "id": "0bee55d3-d2c3-4249-8a07-793742bc7104",
   "metadata": {},
   "outputs": [],
   "source": []
  }
 ],
 "metadata": {
  "kernelspec": {
   "display_name": "Python 3 (ipykernel)",
   "language": "python",
   "name": "python3"
  },
  "language_info": {
   "codemirror_mode": {
    "name": "ipython",
    "version": 3
   },
   "file_extension": ".py",
   "mimetype": "text/x-python",
   "name": "python",
   "nbconvert_exporter": "python",
   "pygments_lexer": "ipython3",
   "version": "3.12.4"
  }
 },
 "nbformat": 4,
 "nbformat_minor": 5
}
