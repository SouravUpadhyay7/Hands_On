{
 "cells": [
  {
   "cell_type": "code",
   "execution_count": 1,
   "id": "3db2ff07-7f46-4da3-a151-82c77dfb7c22",
   "metadata": {},
   "outputs": [
    {
     "name": "stderr",
     "output_type": "stream",
     "text": [
      "[nltk_data] Downloading package stopwords to\n",
      "[nltk_data]     C:\\Users\\Sourav\\AppData\\Roaming\\nltk_data...\n",
      "[nltk_data]   Unzipping corpora\\stopwords.zip.\n"
     ]
    }
   ],
   "source": [
    "import nltk\n",
    "\n",
    "nltk.download('stopwords')\n",
    "\n",
    "from nltk.corpus import stopwords\n",
    "from nltk.tokenize import word_tokenize"
   ]
  },
  {
   "cell_type": "code",
   "execution_count": 2,
   "id": "6cf6ae1f-2522-4287-9c27-26a1b6593908",
   "metadata": {},
   "outputs": [],
   "source": [
    "stopword = stopwords.words('english')"
   ]
  },
  {
   "cell_type": "code",
   "execution_count": 5,
   "id": "a12e4107-84a4-4c8d-bbbd-2550b83aca2d",
   "metadata": {},
   "outputs": [],
   "source": [
    "txt = 'Hi am sourav and currently learning NLP from geeksforgeels'\n",
    "\n",
    "txt = word_tokenize(txt)"
   ]
  },
  {
   "cell_type": "code",
   "execution_count": 6,
   "id": "50ad5add-1819-40bd-9e79-e306aed9b36d",
   "metadata": {},
   "outputs": [
    {
     "name": "stdout",
     "output_type": "stream",
     "text": [
      "Hi\n",
      "sourav\n",
      "currently\n",
      "learning\n",
      "NLP\n",
      "geeksforgeels\n"
     ]
    }
   ],
   "source": [
    "for word in txt:\n",
    "    if ((word.lower() not in stopword) and (len(word) != 1)):\n",
    "        print(word)"
   ]
  },
  {
   "cell_type": "code",
   "execution_count": null,
   "id": "6c1d942c-a54c-4fe3-b899-0799fcfddbd7",
   "metadata": {},
   "outputs": [],
   "source": []
  }
 ],
 "metadata": {
  "kernelspec": {
   "display_name": "Python 3 (ipykernel)",
   "language": "python",
   "name": "python3"
  },
  "language_info": {
   "codemirror_mode": {
    "name": "ipython",
    "version": 3
   },
   "file_extension": ".py",
   "mimetype": "text/x-python",
   "name": "python",
   "nbconvert_exporter": "python",
   "pygments_lexer": "ipython3",
   "version": "3.12.4"
  }
 },
 "nbformat": 4,
 "nbformat_minor": 5
}
