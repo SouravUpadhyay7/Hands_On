{
 "cells": [
  {
   "cell_type": "code",
   "execution_count": 1,
   "id": "a642b714-4f3b-494c-bcd6-b364b4f79b24",
   "metadata": {},
   "outputs": [],
   "source": [
    "name = 'Sourav Upadhyay'"
   ]
  },
  {
   "cell_type": "code",
   "execution_count": 2,
   "id": "ea9851b8-b2fa-436d-ba56-1990d0eac2d6",
   "metadata": {},
   "outputs": [
    {
     "data": {
      "text/plain": [
       "'Sourav Upadhyay'"
      ]
     },
     "execution_count": 2,
     "metadata": {},
     "output_type": "execute_result"
    }
   ],
   "source": [
    "name"
   ]
  },
  {
   "cell_type": "code",
   "execution_count": 4,
   "id": "95ac4b7b-1bb2-40fa-ab54-f957a0bf67c3",
   "metadata": {},
   "outputs": [
    {
     "data": {
      "text/plain": [
       "83"
      ]
     },
     "execution_count": 4,
     "metadata": {},
     "output_type": "execute_result"
    }
   ],
   "source": [
    "ord('S')"
   ]
  },
  {
   "cell_type": "code",
   "execution_count": 6,
   "id": "25e1a497-c8d5-4bbb-a988-ae6e8a36871f",
   "metadata": {},
   "outputs": [
    {
     "data": {
      "text/plain": [
       "97"
      ]
     },
     "execution_count": 6,
     "metadata": {},
     "output_type": "execute_result"
    }
   ],
   "source": [
    "ord(\"a\")"
   ]
  },
  {
   "cell_type": "code",
   "execution_count": 7,
   "id": "a6603f13-76e0-4a31-8a89-021fd17a6639",
   "metadata": {},
   "outputs": [
    {
     "name": "stdout",
     "output_type": "stream",
     "text": [
      "['S', 'o', 'u', 'r', 'a', 'v', ' ', 'U', 'p', 'a', 'd', 'h', 'y', 'a', 'y']\n",
      "[83, 111, 117, 114, 97, 118, 32, 85, 112, 97, 100, 104, 121, 97, 121]\n"
     ]
    }
   ],
   "source": [
    "print([char for char in name])\n",
    "print([ord(char) for char in name])"
   ]
  },
  {
   "cell_type": "code",
   "execution_count": null,
   "id": "97efd968-8380-4843-b108-e04bc1cf11c4",
   "metadata": {},
   "outputs": [],
   "source": []
  }
 ],
 "metadata": {
  "kernelspec": {
   "display_name": "Python 3 (ipykernel)",
   "language": "python",
   "name": "python3"
  },
  "language_info": {
   "codemirror_mode": {
    "name": "ipython",
    "version": 3
   },
   "file_extension": ".py",
   "mimetype": "text/x-python",
   "name": "python",
   "nbconvert_exporter": "python",
   "pygments_lexer": "ipython3",
   "version": "3.12.4"
  }
 },
 "nbformat": 4,
 "nbformat_minor": 5
}
