{
 "cells": [
  {
   "cell_type": "code",
   "execution_count": 2,
   "id": "261c743a-ae4b-48ac-b35d-0e1ff0eea080",
   "metadata": {},
   "outputs": [],
   "source": [
    "txt = 'hello, HOW are you?'"
   ]
  },
  {
   "cell_type": "markdown",
   "id": "49fb38cb-df62-4771-873e-9e640320985a",
   "metadata": {},
   "source": [
    "### 1. Uppercase Function"
   ]
  },
  {
   "cell_type": "code",
   "execution_count": 3,
   "id": "12df417d-bbf2-40da-8684-15df0aef6326",
   "metadata": {},
   "outputs": [
    {
     "data": {
      "text/plain": [
       "'HELLO, HOW ARE YOU?'"
      ]
     },
     "execution_count": 3,
     "metadata": {},
     "output_type": "execute_result"
    }
   ],
   "source": [
    "def upper(text):\n",
    "    \n",
    "    string = ''\n",
    "\n",
    "    for char in text:\n",
    "        if ( ord(char) >= 97 and ord(char) <= 122 ):        # 97 - 122  ( Lowercase )\n",
    "            string += chr(ord(char) - 32)                   # Subtract 32 to make it Uppercase\n",
    "        else:\n",
    "            string += char\n",
    "            \n",
    "    return string\n",
    "\n",
    "upper(txt)"
   ]
  },
  {
   "cell_type": "markdown",
   "id": "9a3378ec-3123-4d24-adf4-e3a7aeeb416f",
   "metadata": {},
   "source": [
    "### 2. Lowercase Function"
   ]
  },
  {
   "cell_type": "code",
   "execution_count": 4,
   "id": "a498de26-d951-4b3b-84c6-4827a9d9bfed",
   "metadata": {},
   "outputs": [
    {
     "data": {
      "text/plain": [
       "'hello, how are you?'"
      ]
     },
     "execution_count": 4,
     "metadata": {},
     "output_type": "execute_result"
    }
   ],
   "source": [
    "def lower(text):\n",
    "    \n",
    "    string = ''\n",
    "\n",
    "    for char in text:\n",
    "        if ( ord(char) >= 65 and ord(char) <= 90 ):        # 65 - 90  ( Uppercase )\n",
    "            string += chr(ord(char) + 32)                  # Add 32 to make it Lowercase\n",
    "        else:\n",
    "            string += char\n",
    "            \n",
    "    return string\n",
    "\n",
    "txt.lower()"
   ]
  },
  {
   "cell_type": "code",
   "execution_count": null,
   "id": "08976241-69f5-4a92-bc92-761d2a0f1bfd",
   "metadata": {},
   "outputs": [],
   "source": []
  }
 ],
 "metadata": {
  "kernelspec": {
   "display_name": "Python 3 (ipykernel)",
   "language": "python",
   "name": "python3"
  },
  "language_info": {
   "codemirror_mode": {
    "name": "ipython",
    "version": 3
   },
   "file_extension": ".py",
   "mimetype": "text/x-python",
   "name": "python",
   "nbconvert_exporter": "python",
   "pygments_lexer": "ipython3",
   "version": "3.12.4"
  }
 },
 "nbformat": 4,
 "nbformat_minor": 5
}
