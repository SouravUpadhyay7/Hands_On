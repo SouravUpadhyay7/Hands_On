{
 "cells": [
  {
   "cell_type": "markdown",
   "id": "2c335d41-5fb9-4589-9072-c416e7681d72",
   "metadata": {},
   "source": [
    "isalpha() Returns True if all characters in the string are in the alphabet\n",
    "\n",
    "isdigit() Returns True if all characters in the string are digits\n",
    "\n",
    "isalnum() Returns True if all characters in the string are alphanumeric"
   ]
  },
  {
   "cell_type": "markdown",
   "id": "339538cd-f0bb-4bae-b2d4-5367ee9f5871",
   "metadata": {},
   "source": [
    "### 1. isalpha()"
   ]
  },
  {
   "cell_type": "code",
   "execution_count": 1,
   "id": "e26669db-70e2-4b03-884b-b5f8af281e16",
   "metadata": {},
   "outputs": [
    {
     "name": "stdout",
     "output_type": "stream",
     "text": [
      "False\n",
      "False\n"
     ]
    }
   ],
   "source": [
    "def isalpha(text):\n",
    "    c = 0\n",
    "    for i in text:\n",
    "        if ((ord(i) >= 65 and ord(i) <= 90) or (ord(i) >= 97 and ord(i) <= 122)):   # (65-90) Upper | (97 - 122) Lower\n",
    "            c += 1\n",
    "    if (len(text) == c):\n",
    "        return True\n",
    "    else:\n",
    "        return False\n",
    "    \n",
    "print('Sourav Upadhyay'.isalpha())\n",
    "print(isalpha('Sourav Upadhyay'))"
   ]
  },
  {
   "cell_type": "markdown",
   "id": "b4594e10-eff7-427a-b15f-1d84d9eef730",
   "metadata": {},
   "source": [
    "### 2. isdigit()"
   ]
  },
  {
   "cell_type": "code",
   "execution_count": 2,
   "id": "c2010de6-87ae-402b-b7b5-2098e16743d2",
   "metadata": {},
   "outputs": [
    {
     "name": "stdout",
     "output_type": "stream",
     "text": [
      "True\n",
      "True\n"
     ]
    }
   ],
   "source": [
    "def isdigit(text):\n",
    "    c = 0\n",
    "    for i in text:\n",
    "        if (ord(i) >= 48 and ord(i) <= 57):              # (48-57) Digits | 0-9\n",
    "            c += 1\n",
    "            \n",
    "    if (len(text) == c):\n",
    "        return True\n",
    "    else:\n",
    "        return False\n",
    "    \n",
    "print('1231'.isdigit())\n",
    "print(isdigit('1231'))"
   ]
  },
  {
   "cell_type": "markdown",
   "id": "83766aff-a28f-4502-9350-e479dcfdf289",
   "metadata": {},
   "source": [
    "### 3. isalnum()"
   ]
  },
  {
   "cell_type": "code",
   "execution_count": 3,
   "id": "ceac9fc5-a533-4aef-a91e-db90e11eae01",
   "metadata": {},
   "outputs": [
    {
     "name": "stdout",
     "output_type": "stream",
     "text": [
      "True\n",
      "True\n"
     ]
    }
   ],
   "source": [
    "def isalnum(text):\n",
    "    c = 0\n",
    "    for i in text:\n",
    "        if ((ord(i)>=65 and ord(i)<=90) or (ord(i)>=97 and ord(i)<=122) or (ord(i)>=48 and ord(i)<=57)):\n",
    "            c += 1\n",
    "    if (len(text) == c):\n",
    "        return True\n",
    "    else:\n",
    "        return False\n",
    "    \n",
    "print('AshishJangra7'.isalnum())\n",
    "print(isalnum('AshishJangra7'))"
   ]
  },
  {
   "cell_type": "code",
   "execution_count": null,
   "id": "1dfe069a-757a-4c75-8d62-7b2ea0be66a0",
   "metadata": {},
   "outputs": [],
   "source": []
  }
 ],
 "metadata": {
  "kernelspec": {
   "display_name": "Python 3 (ipykernel)",
   "language": "python",
   "name": "python3"
  },
  "language_info": {
   "codemirror_mode": {
    "name": "ipython",
    "version": 3
   },
   "file_extension": ".py",
   "mimetype": "text/x-python",
   "name": "python",
   "nbconvert_exporter": "python",
   "pygments_lexer": "ipython3",
   "version": "3.12.4"
  }
 },
 "nbformat": 4,
 "nbformat_minor": 5
}
