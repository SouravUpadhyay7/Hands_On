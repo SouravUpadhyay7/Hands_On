{
 "cells": [
  {
   "cell_type": "code",
   "execution_count": 1,
   "id": "7e62a891-2318-45ec-aab5-245945bc7dfe",
   "metadata": {},
   "outputs": [],
   "source": [
    "def upper(text):\n",
    "    string = ''\n",
    "    for char in text:\n",
    "        if ( ord(char) >= 97 and ord(char) <= 122 ):\n",
    "            string += chr(ord(char) - 32)           \n",
    "        else:\n",
    "            string += char        \n",
    "    return string\n",
    "\n",
    "def lower(text):  \n",
    "    string = ''\n",
    "    for char in text:\n",
    "        if ( ord(char) >= 65 and ord(char) <= 90 ):\n",
    "            string += chr(ord(char) + 32)          \n",
    "        else:\n",
    "            string += char\n",
    "    return string"
   ]
  },
  {
   "cell_type": "code",
   "execution_count": 2,
   "id": "de00ba4e-69d0-48db-8444-464803d1aa95",
   "metadata": {},
   "outputs": [],
   "source": [
    "def title(text):\n",
    "\n",
    "    output = []\n",
    "    for word in text.split(' '):\n",
    "        output.append(upper(word[0]) + lower(word[1:]))\n",
    "    \n",
    "    return ' '.join(output)"
   ]
  },
  {
   "cell_type": "code",
   "execution_count": 3,
   "id": "704d4d8b-c09d-4b75-af4d-d5d969b05f01",
   "metadata": {},
   "outputs": [
    {
     "data": {
      "text/plain": [
       "'Sourav Upadhyay'"
      ]
     },
     "execution_count": 3,
     "metadata": {},
     "output_type": "execute_result"
    }
   ],
   "source": [
    "title('sourav upadhyay')"
   ]
  },
  {
   "cell_type": "code",
   "execution_count": null,
   "id": "3cd894dc-70bd-47d8-9676-7ee2ab77f0b7",
   "metadata": {},
   "outputs": [],
   "source": []
  }
 ],
 "metadata": {
  "kernelspec": {
   "display_name": "Python 3 (ipykernel)",
   "language": "python",
   "name": "python3"
  },
  "language_info": {
   "codemirror_mode": {
    "name": "ipython",
    "version": 3
   },
   "file_extension": ".py",
   "mimetype": "text/x-python",
   "name": "python",
   "nbconvert_exporter": "python",
   "pygments_lexer": "ipython3",
   "version": "3.12.4"
  }
 },
 "nbformat": 4,
 "nbformat_minor": 5
}
